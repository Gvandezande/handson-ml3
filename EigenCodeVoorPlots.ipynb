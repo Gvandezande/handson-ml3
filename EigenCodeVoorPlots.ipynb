{
 "cells": [
  {
   "cell_type": "code",
   "execution_count": null,
   "metadata": {},
   "outputs": [],
   "source": [
    "# code om een histogram te maken van een dataframe\n",
    "\n",
    "# Statistical summary\n",
    "display(df_train['SalePrice'].describe())\n",
    "\n",
    "# Histogram plot\n",
    "df_train['SalePrice'].plot.hist(bins = 50)\n",
    "\n",
    "# Validate skewness with a computation\n",
    "# Skewness > 0 means right skewness and <0 means left skeqness\n",
    "print(f\"The skewness is equal to: {df_train['SalePrice'].skew()} > 0\")"
   ]
  }
 ],
 "metadata": {
  "language_info": {
   "name": "python"
  }
 },
 "nbformat": 4,
 "nbformat_minor": 2
}
